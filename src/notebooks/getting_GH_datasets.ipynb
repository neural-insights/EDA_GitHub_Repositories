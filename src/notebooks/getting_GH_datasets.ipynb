{
 "cells": [
  {
   "cell_type": "markdown",
   "metadata": {
    "vscode": {
     "languageId": "bat"
    }
   },
   "source": [
    "# Data Science Repository Trends on GitHub: An Insightful EDA\n",
    "\n",
    "### Project Break - EDA\n",
    "Autor: Lucas Perez Barone\n"
   ]
  },
  {
   "cell_type": "markdown",
   "metadata": {},
   "source": [
    "Este notebook está diseñado para recopilar datos de repositorios a través de la API Classic de GitHub. \n",
    "\n",
    "La información general sobre la API se puede encontrar en el siguiente enlace: *[GitHub REST API Overview](https://docs.github.com/en/rest?apiVersion=2022-11-28)*"
   ]
  },
  {
   "cell_type": "markdown",
   "metadata": {},
   "source": [
    "Comenzando con la importación de funciones creadas por el usuario y adecuadas a mis objetivos. El código tiene flexibilidad y puede ajustarse según sus necesidades."
   ]
  },
  {
   "cell_type": "code",
   "execution_count": 2,
   "metadata": {},
   "outputs": [],
   "source": [
    "from user_functions import *"
   ]
  },
  {
   "cell_type": "markdown",
   "metadata": {},
   "source": [
    "Creación de **HEADERS** con autenticación mediante token individual y definición del endpoint HTTP a utilizar. \n",
    "\n",
    "La API de GitHub opera en varios repositorios distintos, por lo que si desea obtener datos de otra dirección, consulte la documentación para Endpoints: [GitHub REST API Endpoints](https://docs.github.com/en/rest/using-the-rest-api/getting-started-with-the-rest-api?apiVersion=2022-11-28#3-choose-an-endpoint-for-your-request)."
   ]
  },
  {
   "cell_type": "code",
   "execution_count": 3,
   "metadata": {},
   "outputs": [],
   "source": [
    "from my_GH_token import my_GH_token\n",
    "\n",
    "HEADERS = {'Authorization': f'token {my_GH_token}'}\n",
    "\n",
    "base_url = 'https://api.github.com/'\n",
    "endpoint = 'search/repositories'"
   ]
  },
  {
   "cell_type": "markdown",
   "metadata": {},
   "source": [
    "## Filtros de Búsqueda\n",
    "### Estos son los principales filtros que se pueden usar al buscar repositorios:\n",
    "\n",
    "| **Parámetro**    | **Descripción**                                                                 | **Valores/Ejemplos**                      |\n",
    "|------------------|---------------------------------------------------------------------------------|--------------------------------------------|\n",
    "| **topic:**       | Filtra repositorios por tema (data-science, machine-learning, etc.)             | `data-science`, `machine-learning`, etc.   |\n",
    "| **stars:>=**     | Filtra repositorios con al menos un número determinado de estrellas.            | `>=100`, `>=50`, etc.                      |\n",
    "| **fork:**        | Filtra repositorios que son bifurcaciones de otros repositorios.                | `true`, `false`                            |\n",
    "| **language:**    | Filtra repositorios por lenguaje de programación.                               | `python`, `javascript`, `ruby`, etc.       |\n",
    "| **created:**    | Filtra repositorios creados en un rango de fechas específicas (inicio..fim)     | `year(4d)-month(2d)-day(2d)`/ `2022-05-15`, etc.|\n",
    "| **updated:**    | Filtra repositorios actualizados hasta una fecha específica.                   | `year(4d)-month(2d)-day(2d)`/ `2022-05-01`, etc. |\n",
    "| **is:**          | Filtra repositorios públicos o privados                                         | `public`, `private`                              |\n",
    "| **sort:**        | Ordena los resultados por un campo específico.                                  | `stars`, `updated`, `forks`, `help-wanted-issues` |\n",
    "| **order:**       | Define el orden de clasificación.                                               | `asc`, `desc`                                |"
   ]
  },
  {
   "cell_type": "markdown",
   "metadata": {},
   "source": [
    "Estos son los principales parámetros que se pueden utilizar en una solicitud GET a través de la API para Repositorios. \n",
    "\n",
    "Si desea explorar nuevos filtros o diferentes solicitudes HTTP, visite el sitio web: [GitHub REST API - GET Repositories](https://docs.github.com/en/rest/repos/repos?apiVersion=2022-11-28#get-a-repository)."
   ]
  },
  {
   "cell_type": "markdown",
   "metadata": {},
   "source": [
    "Definición del rango de años a ser recopilados a través de la API. Este es un argumento de la función del usuario get_repositories_by_year."
   ]
  },
  {
   "cell_type": "code",
   "execution_count": null,
   "metadata": {},
   "outputs": [],
   "source": [
    "date_range = range(2010, 2025)  # Rango de año a adquirir"
   ]
  },
  {
   "cell_type": "markdown",
   "metadata": {},
   "source": [
    "La obtención de datos a través de la API para repositorios devuelve 81 variables/columnas de datos, siendo estas:\n",
    "\n",
    "[`id`, `node_id`, `name`, `full_name`, `private`, `owner`, `html_url`, `description`, `fork`, `url`, `forks_url`, `keys_url`, `collaborators_url`, `teams_url`, `hooks_url`, `issue_events_url`, `events_url`, `assignees_url`, `branches_url`, `tags_url`, `blobs_url`, `git_tags_url`, `git_refs_url`, `trees_url`, `statuses_url`, `languages_url`, `stargazers_url`, `contributors_url`, `subscribers_url`, `subscription_url`, `commits_url`, `git_commits_url`, `comments_url`, `issue_comment_url`, `contents_url`, `compare_url`, `merges_url`, `archive_url`, `downloads_url`, `issues_url`, `pulls_url`, `milestones_url`, `notifications_url`, `labels_url`, `releases_url`, `deployments_url`, `created_at`, `updated_at`, `pushed_at`, `git_url`, `ssh_url`, `clone_url`, `svn_url`, `homepage`, `size`, `stargazers_count`, `watchers_count`, `language`, `has_issues`, `has_projects`, `has_downloads`, `has_wiki`, `has_pages`, `has_discussions`, `forks_count`, `mirror_url`, `archived`, `disabled`, `open_issues_count`, `license`, `allow_forking`, `is_template`, `web_commit_signoff_required`, `topics`, `visibility`, `forks`, `open_issues`, `watchers`, `default_branch`, `permissions`, `score`]\n",
    "\n",
    "No entraré en el detalle de discutir cada una de ellas. Para más información, consulta la documentación oficial: [GitHub REST API Repositories - GET Content](https://docs.github.com/en/rest/repos/contents?apiVersion=2022-11-28)."
   ]
  },
  {
   "cell_type": "markdown",
   "metadata": {},
   "source": [
    "Tras el estudio de las variables, se decidió recopilar solo algunas columnas, reduciendo así el peso y la complejidad del conjunto de datos, descartando información innecesaria para mis análisis."
   ]
  },
  {
   "cell_type": "code",
   "execution_count": 4,
   "metadata": {},
   "outputs": [],
   "source": [
    "selected_columns = [\n",
    "    'id', 'name', 'full_name', 'owner', 'stargazers_count',\n",
    "    'forks_count', 'watchers_count', 'open_issues_count', 'topics',\n",
    "    'created_at', 'language', 'has_issues', 'has_projects','has_downloads', 'has_discussions', \n",
    "    'has_wiki', 'license', 'score'\n",
    "]"
   ]
  },
  {
   "cell_type": "markdown",
   "metadata": {},
   "source": [
    "| **Columna**            | **Descripción**                                                                                                  | **dtype** |\n",
    "|------------------------|------------------------------------------------------------------------------------------------------------------|-----------|\n",
    "| `id`                   | El identificador único del repositorio.                                                                          |     int64      |\n",
    "| `name`                 | El nombre del repositorio.                                                                                       |      object    |\n",
    "| `full_name`            | El nombre completo del repositorio, incluyendo el nombre del propietario.                                        |     object     |\n",
    "| `owner`                | Un objeto que contiene información sobre el propietario del repositorio                                          |     object     |\n",
    "| `stargazers_count`     | El número de estrellas (stars) que el repositorio ha recibido.                                                   |     int64      |\n",
    "| `forks_count`          | El número de forks (copias) realizadas a partir del repositorio.                                                 |     int64      |\n",
    "| `watchers_count`       | El número de observadores que están siguiendo las actividades del repositorio.                                   |     int64      |\n",
    "| `open_issues_count`    | El número de problemas (issues) abiertos en el repositorio.                                                      |    int64       |\n",
    "| `topics`               | Una lista de temas y palabras clave asociados al repositorio.                                                    |      object    |\n",
    "| `created_at`           | La fecha y hora en que el repositorio fue creado.                                                                | datetime64[ns, UTC]|\n",
    "| `language`             | El principal lenguaje de programación utilizado en el repositorio.                                               |      object   |\n",
    "| `has_issues`           | Valor que indica si el repositorio tiene issues (problemas) habilitados.                                         |        bool   |\n",
    "| `has_projects`         | Valor que indica si el repositorio tiene proyectos habilitados.                                                  |      bool     |\n",
    "| `has_downloads`        | Valor que indica si el repositorio permite la descarga de archivos.                                              |       bool    |\n",
    "| `has_discussions`      | Valor que indica si el repositorio tiene discusiones habilitadas.                                                |      bool     |\n",
    "| `has_wiki`             | Valor que indica si el repositorio tiene una wiki habilitada.                                                    |      bool     |\n",
    "| `license`              | El tipo de licencia bajo la cual el repositorio está disponible.                                                 |      object   |\n",
    "| `score`                | Un valor numérico (0-1) que representa la relevancia de un repositorio en los resultados de una búsqueda.         |     int64    |"
   ]
  },
  {
   "cell_type": "markdown",
   "metadata": {},
   "source": [
    "La función a continuación recibe tres argumentos:\n",
    "\n",
    "HEADERS, que incluye el token de autenticación obligatorio y cualquier otro filtro que desees, como el tipo de aplicación;\n",
    "\n",
    "Rango de fechas (date_range), que en este caso está diseñado para ser un rango de años, recopilando todos los datos dentro de ese período. Si necesitas otro tipo de rango de fechas, como meses o días, ajústalo directamente en el archivo user_functions.py;\n",
    "\n",
    "Columnas seleccionadas (selected_columns), siendo este argumento una lista con todas las columnas deseadas para ser extraídas y guardadas. Si deseas extraer todas las columnas, simplemente no pases este argumento."
   ]
  },
  {
   "cell_type": "markdown",
   "metadata": {},
   "source": [
    "Si todos los argumentos son pasados correctamente, la función iniciará una serie de bucles automatizados para recopilar la información según los filtros y variables seleccionadas, dentro de todo el rango de fechas, y devolverá un archivo .json guardado en la misma carpeta en la que se está ejecutando. El nombre de los archivos será repositories_{year}, generando así un archivo .json para cada año procesado.\n",
    "\n",
    "La función está programada para hacer pausas entre las solicitudes con el fin de no sobrecargar la API y evitar superar el límite de solicitudes (Rate Limit)"
   ]
  },
  {
   "cell_type": "code",
   "execution_count": null,
   "metadata": {},
   "outputs": [],
   "source": [
    "get_repositories_by_year(HEADERS, date_range, selected_columns)"
   ]
  },
  {
   "cell_type": "markdown",
   "metadata": {},
   "source": [
    "La celda de abajo está automatizada para recoger todos los archivos dentro del rango de fechas estipulado, concatenarlos y guardarlos en un único archivo `.json`."
   ]
  },
  {
   "cell_type": "code",
   "execution_count": 38,
   "metadata": {},
   "outputs": [
    {
     "name": "stdout",
     "output_type": "stream",
     "text": [
      "Repositorios de 2010 cargados con éxito.\n",
      "Repositorios de 2011 cargados con éxito.\n",
      "Repositorios de 2012 cargados con éxito.\n",
      "Repositorios de 2013 cargados con éxito.\n",
      "Repositorios de 2014 cargados con éxito.\n",
      "Repositorios de 2015 cargados con éxito.\n",
      "Repositorios de 2016 cargados con éxito.\n",
      "Repositorios de 2017 cargados con éxito.\n",
      "Repositorios de 2018 cargados con éxito.\n",
      "Repositorios de 2019 cargados con éxito.\n",
      "Repositorios de 2020 cargados con éxito.\n",
      "Repositorios de 2021 cargados con éxito.\n",
      "Repositorios de 2022 cargados con éxito.\n",
      "Repositorios de 2023 cargados con éxito.\n",
      "Repositorios de 2024 cargados con éxito.\n",
      "Repositorios de 2010 a 2014 concatenados y guardados en 'repositories_2010_to_2014.json'.\n"
     ]
    }
   ],
   "source": [
    "date_range = range(2010, 2025)  # Rango de año\n",
    "all_repositories = []\n",
    "\n",
    "for year in date_range:\n",
    "    filename = f'./data/repositories_{year}.json'\n",
    "    \n",
    "    try:\n",
    "        with open(filename, 'r', encoding='utf-8') as file:\n",
    "            data = json.load(file)\n",
    "            all_repositories.extend(data)  # Agrega los repositorios del año al total\n",
    "            print(f\"Repositorios de {year} cargados con éxito.\")\n",
    "    except FileNotFoundError:\n",
    "        print(f\"Archivo {filename} no encontrado. Saltando...\")\n",
    "\n",
    "# Guarda todos los repositorios concatenados en un nuevo archivo JSON\n",
    "with open('repositories_2010_to_2014.json', 'w', encoding='utf-8') as output_file:\n",
    "    json.dump(all_repositories, output_file, ensure_ascii=False, indent=4)\n",
    "\n",
    "print(\"Repositorios de 2010 a 2014 concatenados y guardados en 'repositories_2010_to_2014.json'.\")"
   ]
  }
 ],
 "metadata": {
  "kernelspec": {
   "display_name": "base",
   "language": "python",
   "name": "python3"
  },
  "language_info": {
   "codemirror_mode": {
    "name": "ipython",
    "version": 3
   },
   "file_extension": ".py",
   "mimetype": "text/x-python",
   "name": "python",
   "nbconvert_exporter": "python",
   "pygments_lexer": "ipython3",
   "version": "3.11.4"
  }
 },
 "nbformat": 4,
 "nbformat_minor": 2
}
